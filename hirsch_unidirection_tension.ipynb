{
 "cells": [
  {
   "cell_type": "markdown",
   "metadata": {},
   "source": [
    "Author:      Abhijeet Singh\n",
    "\n",
    "Copyright:   Copyright (©) 2018 EPFL (Ecole Polytechnique Fédérale de Lausanne)\n",
    "             Geo-Energy lab"
   ]
  },
  {
   "cell_type": "markdown",
   "metadata": {},
   "source": [
    "# Circular Hole in an Infinite Medium Subjected to Uniaxial Tension"
   ]
  },
  {
   "cell_type": "markdown",
   "metadata": {},
   "source": [
    "Set the Bigwham directory (check on yours)"
   ]
  },
  {
   "cell_type": "code",
   "execution_count": 1,
   "metadata": {},
   "outputs": [],
   "source": [
    "import os, sys\n",
    "home = os.environ[\"HOME\"]\n",
    "sys.path.append(home + \"/BigWham/build/interfaces/python\")"
   ]
  },
  {
   "cell_type": "markdown",
   "metadata": {},
   "source": [
    "Import necessary libraries"
   ]
  },
  {
   "cell_type": "code",
   "execution_count": 2,
   "metadata": {},
   "outputs": [],
   "source": [
    "import numpy as np\n",
    "from hmatrix_rectangular import HmatrixRectangular\n",
    "import matplotlib.pyplot as plt\n",
    "from scipy.sparse.linalg import gmres, LinearOperator\n",
    "from scipy.sparse import csr_matrix\n",
    "from py_bigwham import Mesh"
   ]
  },
  {
   "cell_type": "markdown",
   "metadata": {},
   "source": [
    "# User Inputs"
   ]
  },
  {
   "cell_type": "code",
   "execution_count": 3,
   "metadata": {},
   "outputs": [],
   "source": [
    "# Solving the Kirsch's problem\n",
    "\n",
    "# Circle radius\n",
    "r = 1          \n",
    "# Number of elements in the circle \n",
    "n_elmts = 40\n",
    "# Angle spanned by each element\n",
    "theta = 2*np.pi/n_elmts\n",
    "\n",
    "# Create the mesh of circle\n",
    "coord = np.zeros([n_elmts,2])\n",
    "for i in range(n_elmts):\n",
    "    # Assign x-coordinates (intentionally shifting by theta/2, which makes easy to put BCs on colocation points)\n",
    "    coord[i,0] = r*np.cos(theta*i - theta/2)\n",
    "    # Assign y-coordinates (intentionally shifting by theta/2, which makes easy to put BCs on colocation points)\n",
    "    coord[i,1] = r*np.sin(theta*i - theta/2)\n",
    "\n",
    "# Make the connectivity matrix\n",
    "conn = np.fromfunction(lambda x, y: x + y, (n_elmts, 2), dtype=np.int_)\n",
    "# Put the last element with 0th node as the end node because it's a circle\n",
    "conn[-1,1] = conn[0,0]\n"
   ]
  },
  {
   "cell_type": "markdown",
   "metadata": {},
   "source": [
    "H-matrix parameters"
   ]
  },
  {
   "cell_type": "code",
   "execution_count": 4,
   "metadata": {},
   "outputs": [],
   "source": [
    "# H-matrix parameter\n",
    "\n",
    "max_leaf_size = 16\n",
    "eta           = 3.0\n",
    "eps_aca       = 1.e-4"
   ]
  },
  {
   "cell_type": "markdown",
   "metadata": {},
   "source": [
    "Elastic properties"
   ]
  },
  {
   "cell_type": "code",
   "execution_count": 5,
   "metadata": {},
   "outputs": [],
   "source": [
    "# Elastic properties\n",
    "\n",
    "# Young's Modulus\n",
    "E     = 1\n",
    "# Poisson's Ratio\n",
    "nu    = 0.2"
   ]
  },
  {
   "cell_type": "markdown",
   "metadata": {},
   "source": [
    "Compute H, T, and U matrices"
   ]
  },
  {
   "cell_type": "code",
   "execution_count": 6,
   "metadata": {},
   "outputs": [
    {
     "name": "stdout",
     "output_type": "stream",
     "text": [
      " Now setting things for kernel ... 2DS0-2DS0-H with properties size 2\n",
      "Cluster tree creation time for the source mesh :  0\n",
      "Cluster tree creation time for the source mesh :  0\n",
      "Time for binary cluster tree construction  2.1364e-05\n",
      " binary cluster tree depth =2\n",
      " Number of blocks =16\n",
      " Number of full blocks =16\n",
      " Number of low rank blocks =0\n",
      " Loop on full blocks construction  \n",
      " N full blocks 16 \n",
      "Loop on low rank blocks construction\n",
      "N low rank blocks 0\n",
      "dof_dimension: 2\n",
      "Creation of hmat done in 0.00206868\n",
      "Compression ratio - 1\n",
      "Hmat object - built \n",
      "HMAT --> built \n",
      "HMAT set, CR = 1, eps_aca = 0.0001, eta = 3\n",
      "BigWhamIO ENDED\n",
      " Now setting things for kernel ... 2DS0-2DS0-T with properties size 2\n",
      "Cluster tree creation time for the source mesh :  0\n",
      "Cluster tree creation time for the source mesh :  0\n",
      "Time for binary cluster tree construction  1.9301e-05\n",
      " binary cluster tree depth =2\n",
      " Number of blocks =16\n",
      " Number of full blocks =16\n",
      " Number of low rank blocks =0\n",
      " Loop on full blocks construction  \n",
      " N full blocks 16 \n",
      "Loop on low rank blocks construction\n",
      "N low rank blocks 0\n",
      "dof_dimension: 2\n",
      "Creation of hmat done in 0.00087477\n",
      "Compression ratio - 1\n",
      "Hmat object - built \n",
      "HMAT --> built \n",
      "HMAT set, CR = 1, eps_aca = 0.0001, eta = 3\n",
      "BigWhamIO ENDED\n",
      " Now setting things for kernel ... 2DS0-2DS0-U with properties size 2\n",
      "Cluster tree creation time for the source mesh :  0\n",
      "Cluster tree creation time for the source mesh :  0\n",
      "Time for binary cluster tree construction  2.6657e-05\n",
      " binary cluster tree depth =2\n",
      " Number of blocks =16\n",
      " Number of full blocks =16\n",
      " Number of low rank blocks =0\n",
      " Loop on full blocks construction  \n",
      " N full blocks 16 \n",
      "Loop on low rank blocks construction\n",
      "N low rank blocks 0\n",
      "dof_dimension: 2\n",
      "Creation of hmat done in 0.000918242\n",
      "Compression ratio - 1\n",
      "Hmat object - built \n",
      "HMAT --> built \n",
      "HMAT set, CR = 1, eps_aca = 0.0001, eta = 3\n",
      "BigWhamIO ENDED\n"
     ]
    }
   ],
   "source": [
    "# Compute H, T and U matrices \n",
    "\n",
    "H = HmatrixRectangular(\n",
    "    \"2DS0-2DS0-H\",\n",
    "    coord.flatten(),\n",
    "    conn.flatten(),\n",
    "    coord.flatten(),\n",
    "    conn.flatten(),\n",
    "    np.array([E, nu]),\n",
    "    max_leaf_size,\n",
    "    eta,\n",
    "    eps_aca,\n",
    ")\n",
    "\n",
    "T = HmatrixRectangular(\n",
    "    \"2DS0-2DS0-T\",\n",
    "    coord.flatten(),\n",
    "    conn.flatten(),\n",
    "    coord.flatten(),\n",
    "    conn.flatten(),\n",
    "    np.array([E, nu]),\n",
    "    max_leaf_size,\n",
    "    eta,\n",
    "    eps_aca,\n",
    ")\n",
    "\n",
    "\n",
    "U = HmatrixRectangular(\n",
    "    \"2DS0-2DS0-U\",\n",
    "    coord.flatten(),\n",
    "    conn.flatten(),\n",
    "    coord.flatten(),\n",
    "    conn.flatten(),\n",
    "    np.array([E, nu]),\n",
    "    max_leaf_size,\n",
    "    eta,\n",
    "    eps_aca,\n",
    ")\n"
   ]
  },
  {
   "cell_type": "markdown",
   "metadata": {},
   "source": [
    "Get traction on crack surface using overall stress field and initialize displacement field"
   ]
  },
  {
   "cell_type": "code",
   "execution_count": 7,
   "metadata": {},
   "outputs": [],
   "source": [
    "# Get the mesh from coordinates and connectivity\n",
    "mesh = Mesh(coord.flatten(), conn.flatten(), \"2DS0\")\n",
    "# Get the collocation points\n",
    "col_pts = H.getMeshCollocationPoints()\n",
    "\n",
    "# Individual stresses\n",
    "sigma_11 = 0.0\n",
    "sigma_22 = 1.0\n",
    "sigma_12 = 0.0\n",
    "# Overall stress field\n",
    "sigma = np.array([sigma_11, sigma_22, sigma_12], dtype=np.float64)\n",
    "\n",
    "# Get traction using an internal function\n",
    "t = -mesh.get_farfield_traction(sigma)\n",
    "# Initialize the displacement field\n",
    "u = np.zeros(n_elmts*2)"
   ]
  },
  {
   "cell_type": "markdown",
   "metadata": {},
   "source": [
    "Choose indices with pre-specified displacement and traction BCs, respectively "
   ]
  },
  {
   "cell_type": "code",
   "execution_count": 13,
   "metadata": {},
   "outputs": [],
   "source": [
    "# Declare all indices to later slice accordingly\n",
    "all_indices  = np.arange(n_elmts*2)\n",
    "# The indices where displacement BC is given\n",
    "# Point1: [r, 0]\n",
    "# Point2: [-r, 0]\n",
    "disp_indices = np.array([0, 1, n_elmts, n_elmts+1], dtype=int)\n",
    "# The indices where traction BC is given\n",
    "trac_indices = np.setdiff1d(all_indices, disp_indices)"
   ]
  },
  {
   "cell_type": "markdown",
   "metadata": {},
   "source": [
    "Create vector masks where displacement and traction BCs, respectively, are specified"
   ]
  },
  {
   "cell_type": "code",
   "execution_count": 14,
   "metadata": {},
   "outputs": [],
   "source": [
    "# Create mask for indices where displacement BC is given\n",
    "mask_disp = np.zeros(n_elmts*2, dtype=bool)\n",
    "mask_disp[disp_indices] = True\n",
    "\n",
    "# Create mask for indices where traction BC is given\n",
    "mask_trac = np.zeros(n_elmts*2, dtype=bool)\n",
    "mask_trac[trac_indices] = True"
   ]
  },
  {
   "cell_type": "markdown",
   "metadata": {},
   "source": [
    "Matvec operation and preconditioner to solve the system of equations\n",
    "\n",
    "$$\n",
    "\\begin{Bmatrix}\n",
    "        t_1\\\\t_2^*\n",
    "        \\end{Bmatrix}\\,=\\,\n",
    "        \\begin{bmatrix}\n",
    "        T_{11} & T_{12} \\\\\n",
    "        T_{21} & T_{22}\n",
    "        \\end{bmatrix}\n",
    "        \\begin{Bmatrix}\n",
    "        t_1 \\\\ t_2^*\n",
    "        \\end{Bmatrix} - \n",
    "        \\begin{bmatrix}\n",
    "        H_{11} & H_{12} \\\\\n",
    "        H_{21} & H_{22}\n",
    "        \\end{bmatrix}\n",
    "        \\begin{Bmatrix}\n",
    "        u_1^* \\\\ u_2\n",
    "        \\end{Bmatrix}\n",
    "$$\n",
    "\n",
    "which then becomes,\n",
    "$$\n",
    "\\begin{bmatrix}\n",
    "        H_{11} & 0 \\\\\n",
    "        H_{21} & 0\n",
    "        \\end{bmatrix}\n",
    "        \\begin{Bmatrix}\n",
    "        u_1^* \\\\ 0\n",
    "        \\end{Bmatrix} -\n",
    "        \\begin{bmatrix}\n",
    "        0 & T_{12} \\\\\n",
    "        0 & T_{22}\n",
    "        \\end{bmatrix}\n",
    "        \\begin{Bmatrix}\n",
    "        0 \\\\ t_2^*\n",
    "        \\end{Bmatrix} +\n",
    "        \\begin{Bmatrix}\n",
    "        0 \\\\ t_2^*\n",
    "        \\end{Bmatrix} = \n",
    "        - \\begin{bmatrix}\n",
    "        0 & H_{12} \\\\\n",
    "        0 & H_{22}\n",
    "        \\end{bmatrix}\n",
    "        \\begin{Bmatrix}\n",
    "        0 \\\\ u_2\n",
    "        \\end{Bmatrix} +\n",
    "        \\begin{bmatrix}\n",
    "        T_{11} & 0 \\\\\n",
    "        T_{21} & 0\n",
    "        \\end{bmatrix}\n",
    "        \\begin{Bmatrix}\n",
    "        t_1 \\\\ 0\n",
    "        \\end{Bmatrix} - \n",
    "        \\begin{Bmatrix}\n",
    "        t_1 \\\\ 0\n",
    "        \\end{Bmatrix}\n",
    "$$"
   ]
  },
  {
   "cell_type": "markdown",
   "metadata": {},
   "source": [
    "LHS (unknown) part of the equation is given as:\n",
    "$$\n",
    "\\begin{bmatrix}\n",
    "        H_{11} & H_{12} \\\\\n",
    "        H_{21} & H_{22}\n",
    "        \\end{bmatrix}\n",
    "        \\begin{bmatrix}\n",
    "        I_{11} & 0 \\\\\n",
    "        0 & 0\n",
    "        \\end{bmatrix}\n",
    "        \\begin{Bmatrix}\n",
    "        u_1^* \\\\ t_2^*\n",
    "        \\end{Bmatrix} - \n",
    "        \\begin{bmatrix}\n",
    "        T_{11} & T_{12} \\\\\n",
    "        T_{12} & T_{22}\n",
    "        \\end{bmatrix}\n",
    "        \\begin{bmatrix}\n",
    "        0 & 0 \\\\\n",
    "        0 & I_{22}\n",
    "        \\end{bmatrix}\n",
    "        \\begin{Bmatrix}\n",
    "        u_1^* \\\\ t_2^*\n",
    "        \\end{Bmatrix} ~~ + ~~ \n",
    "        \\begin{bmatrix}\n",
    "        0 & 0 \\\\\n",
    "        0 & I_{22}\n",
    "        \\end{bmatrix}\n",
    "        \\begin{Bmatrix}\n",
    "        u_1^* \\\\ t_2^*\n",
    "        \\end{Bmatrix}\n",
    "$$\n",
    "\n",
    "where $u_1^*$ and $t_2^*$ are unknown displacements and unknown tractions, respectively."
   ]
  },
  {
   "cell_type": "code",
   "execution_count": 15,
   "metadata": {},
   "outputs": [],
   "source": [
    "# Index 1 is where traction is known\n",
    "# Index 2 is where displacement is known \n",
    "\n",
    "# Define the system to solve for unknown tractions and displacements\n",
    "\n",
    "# Equation: H11xu1 - T12      xt2 = -H12xu2 + (T11-I11)xt1\n",
    "#           H21xu1 - (T22-I22)xt2 = -H22xu2 +  T21     xt1\n",
    "def matvec(x: np.ndarray) -> np.ndarray:\n",
    "    # Get [0, t2]^T\n",
    "    x_trac = x*mask_disp\n",
    "    # Get [u1, 0]^T\n",
    "    x_disp = x*mask_trac\n",
    "    \n",
    "    y1 = H @ x_disp\n",
    "    y2 = -T @ x_trac + x_trac\n",
    "    return y1+y2\n",
    "\n",
    "# To obtain LHS part of equation\n",
    "soln = LinearOperator(shape=T.shape, matvec=matvec)\n",
    "# Compute the inverse of the diagonal as a Jacobi preconditioner\n",
    "diagonal                = np.diag(matvec(np.eye(np.shape(T)[0])))\n",
    "inverse_diagonal        = 1.0 / diagonal\n",
    "jacobi_preconditioner   = LinearOperator(np.shape(T), matvec=lambda v: inverse_diagonal * v)\n"
   ]
  },
  {
   "cell_type": "markdown",
   "metadata": {},
   "source": [
    "Solve the system of equations"
   ]
  },
  {
   "cell_type": "markdown",
   "metadata": {},
   "source": [
    "RHS (known) part of the equation is given as:\n",
    "$$\n",
    "- \\begin{bmatrix}\n",
    "        H_{11} & H_{12} \\\\\n",
    "        H_{21} & H_{22}\n",
    "        \\end{bmatrix}\n",
    "        \\begin{bmatrix}\n",
    "        0 & 0 \\\\\n",
    "        0 & I_{22}\n",
    "        \\end{bmatrix}\n",
    "        \\begin{Bmatrix}\n",
    "        t_1 \\\\ u_2\n",
    "        \\end{Bmatrix} + \n",
    "        \\begin{bmatrix}\n",
    "        T_{11} & T_{12} \\\\\n",
    "        T_{12} & T_{22}\n",
    "        \\end{bmatrix}\n",
    "        \\begin{bmatrix}\n",
    "        I_{11} & 0 \\\\\n",
    "        0 & 0\n",
    "        \\end{bmatrix}\n",
    "        \\begin{Bmatrix}\n",
    "        t_1 \\\\ u_2\n",
    "        \\end{Bmatrix} ~~ - ~~ \n",
    "        \\begin{bmatrix}\n",
    "        I_{11} & 0 \\\\\n",
    "        0 & 0\n",
    "        \\end{bmatrix}\n",
    "        \\begin{Bmatrix}\n",
    "        t_1 \\\\ u_2\n",
    "        \\end{Bmatrix}\n",
    "$$\n",
    "\n",
    "where $t_1$ and $u_2$ are known tractions and known displacements, respectively."
   ]
  },
  {
   "cell_type": "code",
   "execution_count": 16,
   "metadata": {},
   "outputs": [],
   "source": [
    "# Index 1 is where traction is known\n",
    "# Index 2 is where displacement is known \n",
    "\n",
    "\n",
    "# Get local traction from global traction\n",
    "t_local  = mesh.convert_to_local(t)\n",
    "# Tranform using mask to get non-zero values only at index 1\n",
    "t1_local = t_local*mask_trac\n",
    "# Get local displacement from global displacement\n",
    "u_local  = mesh.convert_to_local(u)\n",
    "# Tranform using mask to get non-zero values only at index 2\n",
    "u2_local = u_local*mask_disp\n",
    "\n",
    "\n",
    "# Part 1:\n",
    "# b_local1 is -[H12xu2, H22xu2]^T\n",
    "b_local1 = -H @ u2_local\n",
    "\n",
    "# b_local2 is [T11xt1 - t1, T21xt1]^T\n",
    "b_local2 = T @ t1_local - t1_local\n",
    "\n",
    "\n",
    "# Combine all to get b_local\n",
    "b_local = b_local1 + b_local2\n",
    "\n",
    "# Get [u1_local, t2_local]^T by inverting the equation\n",
    "# H11xu1 -  T12     xt2 = -H12xu2 + (T11-I11)xt1\n",
    "# H21xu1 - (T22-I22)xt2 = -H22xu2 +  T21     xt1\n",
    "disp_trac = gmres(soln, b_local, M = jacobi_preconditioner)[0]\n",
    "# Extract the unknown diplacements and tractions\n",
    "u1_local = disp_trac*mask_trac\n",
    "t2_local = disp_trac*mask_disp\n",
    "# Get the final global displaments and tractions\n",
    "u_global = mesh.convert_to_global(u1_local+u2_local)\n",
    "t_global = mesh.convert_to_global(t1_local+t2_local)\n"
   ]
  }
 ],
 "metadata": {
  "kernelspec": {
   "display_name": "geolab_absingh_env",
   "language": "python",
   "name": "python3"
  },
  "language_info": {
   "codemirror_mode": {
    "name": "ipython",
    "version": 3
   },
   "file_extension": ".py",
   "mimetype": "text/x-python",
   "name": "python",
   "nbconvert_exporter": "python",
   "pygments_lexer": "ipython3",
   "version": "3.10.12"
  },
  "orig_nbformat": 4
 },
 "nbformat": 4,
 "nbformat_minor": 2
}
